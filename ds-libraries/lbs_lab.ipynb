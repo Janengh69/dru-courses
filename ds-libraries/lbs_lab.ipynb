{
 "cells": [
  {
   "cell_type": "markdown",
   "metadata": {
    "colab_type": "text",
    "id": "g0b3IEgTsdcD"
   },
   "source": [
    "# Libraries: numpy, scipy, pandas"
   ]
  },
  {
   "cell_type": "code",
   "execution_count": null,
   "metadata": {
    "colab": {
     "autoexec": {
      "startup": false,
      "wait_interval": 0
     }
    },
    "colab_type": "code",
    "id": "Be4_dnVpsdcF"
   },
   "outputs": [],
   "source": [
    "import numpy as np\n",
    "import matplotlib.pyplot as plt\n",
    "import pandas as pd"
   ]
  },
  {
   "cell_type": "markdown",
   "metadata": {},
   "source": [
    "#### 1. Implement function which creates a $nxm$ matrix and fills it with a checkerboard pattern:\n",
    "<div style=\"text-align: right\">1 point</div>"
   ]
  },
  {
   "cell_type": "code",
   "execution_count": null,
   "metadata": {},
   "outputs": [],
   "source": [
    "def checkerboard(n, m):\n",
    "    \"\"\"\n",
    "    :n: int\n",
    "    :m: int\n",
    "    :return: numpy.ndarray\n",
    "    \"\"\"\n",
    "    # YOUR CODE HERE"
   ]
  },
  {
   "cell_type": "code",
   "execution_count": null,
   "metadata": {},
   "outputs": [],
   "source": [
    "print('Checkerboard pattern: \\n', checkerboard(3, 3))"
   ]
  },
  {
   "cell_type": "markdown",
   "metadata": {},
   "source": [
    "Expected Output: \n",
    "<table>\n",
    "  <tr>\n",
    "    <td></td>\n",
    "    <td> [[0 1 0]\n",
    "  <tr>\n",
    "    <td>Checkerboard pattern: </td>\n",
    "    <td> [1 0 1]\n",
    "  <tr>\n",
    "    <td></td>\n",
    "    <td> [0 1 0]]"
   ]
  },
  {
   "cell_type": "markdown",
   "metadata": {},
   "source": [
    "#### 2. Implement function which solves system of linear equations:\n",
    "<div style=\"text-align: right\">1 point</div>"
   ]
  },
  {
   "cell_type": "code",
   "execution_count": null,
   "metadata": {},
   "outputs": [],
   "source": [
    "def solve_system(a, b):\n",
    "    \"\"\"\n",
    "    :a: list[list]\n",
    "    :b: list\n",
    "    :return: numpy.ndarray\n",
    "    \"\"\"\n",
    "    # YOUR CODE HERE"
   ]
  },
  {
   "cell_type": "code",
   "execution_count": null,
   "metadata": {},
   "outputs": [],
   "source": [
    "print('Result: ', solve_system([[3,1], [1,2]], [9,8]))"
   ]
  },
  {
   "cell_type": "markdown",
   "metadata": {},
   "source": [
    "Expected Output: \n",
    "<table>\n",
    "  <tr>\n",
    "    <td>Result:</td>\n",
    "    <td> [2. 3.] </td> \n",
    "  </tr>"
   ]
  },
  {
   "cell_type": "markdown",
   "metadata": {},
   "source": [
    "#### 3. Implement function which multiplies 2 matrixes and returns the max value of each column of the resulting matrix:\n",
    "<div style=\"text-align: right\">1 point</div>"
   ]
  },
  {
   "cell_type": "code",
   "execution_count": null,
   "metadata": {},
   "outputs": [],
   "source": [
    "def mult(m1, m2):\n",
    "    \"\"\"\n",
    "    :m1: numpy.ndarray\n",
    "    :m2: numpy.ndarray\n",
    "    :return: numpy.ndarray\n",
    "    \"\"\"\n",
    "    # YOUR CODE HERE"
   ]
  },
  {
   "cell_type": "code",
   "execution_count": null,
   "metadata": {},
   "outputs": [],
   "source": [
    "p = np.array([[1, 9], [0, 1]])\n",
    "q = np.array([[1, 2], [3, 9]])\n",
    "print('Result: ', mult(p, q))"
   ]
  },
  {
   "cell_type": "markdown",
   "metadata": {},
   "source": [
    "Expected Output: \n",
    "<table>\n",
    "  <tr>\n",
    "    <td>Result:</td>\n",
    "    <td> [28 83] </td> \n",
    "  </tr>"
   ]
  },
  {
   "cell_type": "markdown",
   "metadata": {
    "colab_type": "text",
    "id": "cXP-v9zRjPM5"
   },
   "source": [
    "#### 4. Implement function add_mean_and_calc_det(matrix), which adds to each element in the matrix row the mean of this row and returns the determinant of the resulting matrix.\n",
    "<div style=\"text-align: right\">1 point</div>"
   ]
  },
  {
   "cell_type": "code",
   "execution_count": null,
   "metadata": {
    "colab": {
     "autoexec": {
      "startup": false,
      "wait_interval": 0
     }
    },
    "colab_type": "code",
    "id": "4_Hz6gEPjPM5"
   },
   "outputs": [],
   "source": [
    "def add_mean_and_calc_det(matrix):\n",
    "    \"\"\"\n",
    "    :matrix: numpy.ndarray[list[list[int]]]\n",
    "    :return: numpy.float64\n",
    "    \"\"\"\n",
    "    # YOUR CODE HERE"
   ]
  },
  {
   "cell_type": "code",
   "execution_count": null,
   "metadata": {
    "colab": {
     "autoexec": {
      "startup": false,
      "wait_interval": 0
     }
    },
    "colab_type": "code",
    "id": "zZO__kp_sdcN"
   },
   "outputs": [],
   "source": [
    "print('Result:', add_mean_and_calc_det(np.array([[5, 3, 4], [7, 9, 8], [6, 7, 8]])))"
   ]
  },
  {
   "cell_type": "markdown",
   "metadata": {
    "colab_type": "text",
    "id": "xmzo4PEssdcP"
   },
   "source": [
    "Expected Output: \n",
    "<table>\n",
    "  <tr>\n",
    "    <td>Result:</td>\n",
    "    <td> 72 </td> \n",
    "  </tr>"
   ]
  },
  {
   "cell_type": "markdown",
   "metadata": {
    "colab_type": "text",
    "id": "FUAr1WPCjPM8"
   },
   "source": [
    "#### 5. Implement function nearest_to_scalar(matrix, n), which returns the closest to n number in the matrix.\n",
    "<div style=\"text-align: right\">1 point</div>"
   ]
  },
  {
   "cell_type": "code",
   "execution_count": null,
   "metadata": {
    "colab": {
     "autoexec": {
      "startup": false,
      "wait_interval": 0
     }
    },
    "colab_type": "code",
    "id": "VLS3S8g-jPM9"
   },
   "outputs": [],
   "source": [
    "import numpy as np\n",
    "def nearest_to_scalar(matrix, n):\n",
    "    \"\"\"\n",
    "    :param matrix: numpy.ndarray[list[list[int]]]\n",
    "    :param n: int\n",
    "    :return: int  \n",
    "    \"\"\"\n",
    "    # YOUR CODE HERE"
   ]
  },
  {
   "cell_type": "code",
   "execution_count": null,
   "metadata": {
    "colab": {
     "autoexec": {
      "startup": false,
      "wait_interval": 0
     }
    },
    "colab_type": "code",
    "id": "OKSqsu9FsdcS"
   },
   "outputs": [],
   "source": [
    "print('Nearest:', nearest_to_scalar(np.array([[5, 3, 4], [7, 9, 8], [6, 7, 8]]), 11))"
   ]
  },
  {
   "cell_type": "markdown",
   "metadata": {
    "colab_type": "text",
    "id": "cSW-eweGsdcV"
   },
   "source": [
    "Expected Output:\n",
    "<table>\n",
    "  <tr>\n",
    "    <td>Nearest:</td>\n",
    "    <td> 9 </td> \n",
    "  </tr>"
   ]
  },
  {
   "cell_type": "markdown",
   "metadata": {
    "colab_type": "text",
    "id": "0z5-m5v_jPM_"
   },
   "source": [
    "#### 6. Implement function svd_ranks(Z) which performs SVD of given matrix and returns a list of ranks of matrices U, S and V.\n",
    "<div style=\"text-align: right\">1 point</div>"
   ]
  },
  {
   "cell_type": "code",
   "execution_count": null,
   "metadata": {
    "colab": {
     "autoexec": {
      "startup": false,
      "wait_interval": 0
     }
    },
    "colab_type": "code",
    "id": "8m-SG2hJjPNA"
   },
   "outputs": [],
   "source": [
    "def svd_ranks(Z): \n",
    "    \"\"\"\n",
    "    :param Z: numpy.ndarray[list[list[int]]]\n",
    "    :return: list  \n",
    "    \"\"\"\n",
    "    # YOUR CODE HERE"
   ]
  },
  {
   "cell_type": "code",
   "execution_count": null,
   "metadata": {
    "colab": {
     "autoexec": {
      "startup": false,
      "wait_interval": 0
     }
    },
    "colab_type": "code",
    "id": "UGrS-YK7sdcY"
   },
   "outputs": [],
   "source": [
    "print('Svd ranks:', svd_ranks(np.arange(9).reshape((3, 3))))"
   ]
  },
  {
   "cell_type": "markdown",
   "metadata": {
    "colab_type": "text",
    "id": "9RGRmS-Tsdcb"
   },
   "source": [
    "Expected Output: \n",
    "<table>\n",
    "  <tr>\n",
    "    <td>Svd ranks:</td>\n",
    "    <td> [3, 2, 3] </td> \n",
    "  </tr>"
   ]
  },
  {
   "cell_type": "markdown",
   "metadata": {},
   "source": [
    "#### 7. Implement function to sort a given complex array using the real part first, then the imaginary part:\n",
    "<div style=\"text-align: right\">1 point</div>"
   ]
  },
  {
   "cell_type": "code",
   "execution_count": null,
   "metadata": {},
   "outputs": [],
   "source": [
    "def complex_sort(complex_nums):\n",
    "    \"\"\"\n",
    "    :complex_nums: list\n",
    "    :return: np.array  \n",
    "    \"\"\"\n",
    "    # YOUR CODE HERE"
   ]
  },
  {
   "cell_type": "code",
   "execution_count": null,
   "metadata": {},
   "outputs": [],
   "source": [
    "print('Result: ', complex_sort([1 + 2j, 3 - 1j, 3 - 2j, 4 - 3j, 3 + 5j]))"
   ]
  },
  {
   "cell_type": "markdown",
   "metadata": {},
   "source": [
    "Expected Output: \n",
    "<table>\n",
    "  <tr>\n",
    "    <td>Result:</td>\n",
    "    <td> [1.+2.j 3.-2.j 3.-1.j 3.+5.j 4.-3.j]"
   ]
  },
  {
   "cell_type": "markdown",
   "metadata": {},
   "source": [
    "#### 8. Implement a function that computes the Mandelbrot fractal:\n",
    "<div style=\"text-align: right\">4 points</div>"
   ]
  },
  {
   "cell_type": "code",
   "execution_count": null,
   "metadata": {},
   "outputs": [],
   "source": [
    "def compute_mandelbrot(n_max, threshold, nx, ny):\n",
    "    \"\"\"\n",
    "    :n_max: int\n",
    "    :threshold: float\n",
    "    :nx: int\n",
    "    :ny: int\n",
    "    :return: np.array  \n",
    "    \"\"\"\n",
    "    # A grid of c-values\n",
    "    x = np.linspace(-2, 1, nx)\n",
    "    y = np.linspace(-1.5, 1.5, ny)\n",
    "\n",
    "    c = x[:,np.newaxis] + 1j * y[np.newaxis,:]\n",
    "\n",
    "    # Mandelbrot iteration\n",
    "    # YOUR CODE HERE"
   ]
  },
  {
   "cell_type": "code",
   "execution_count": null,
   "metadata": {},
   "outputs": [],
   "source": [
    "mandelbrot_set = compute_mandelbrot(50, 50., 601, 401)\n",
    "plt.imshow(mandelbrot_set.T, extent=[-2, 1, -1.5, 1.5])\n",
    "print('Shape: ', mandelbrot_set.shape)"
   ]
  },
  {
   "cell_type": "markdown",
   "metadata": {},
   "source": [
    "Expected Output: \n",
    "<table>\n",
    "  <tr>\n",
    "    <td>Shape:</td>\n",
    "    <td> (601, 401)</td>\n",
    "<td><img src=\"http://157.230.116.154:1338/uploads/1a2ae116fb684ec5a1d75b199017a24b.png\"></td>"
   ]
  },
  {
   "cell_type": "markdown",
   "metadata": {
    "colab_type": "text",
    "id": "cV0BQjaGjPND"
   },
   "source": [
    "#### 9. Consider the following dictionary \"data\" and list \"labels\":"
   ]
  },
  {
   "cell_type": "code",
   "execution_count": null,
   "metadata": {
    "colab": {
     "autoexec": {
      "startup": false,
      "wait_interval": 0
     }
    },
    "colab_type": "code",
    "id": "_C0MzBX8jPND"
   },
   "outputs": [],
   "source": [
    "data = {'animal': ['cat', 'cat', 'dog', 'dog', 'cat', 'cat', 'dog', 'cat', 'dog', 'dog'],\n",
    "        'age': [2.5, 1, 0.5, np.nan, 5, 2, 3.5, np.nan, 7, 3],\n",
    "        'weight': [1, 3, 6, 8, 4, 3, 10, 2, 7, 3],\n",
    "        'priority': ['yes', 'yes', 'no', 'yes', 'no', 'no', 'no', 'yes', 'no', 'no']}\n",
    "\n",
    "labels = ['a', 'b', 'c', 'd', 'e', 'f', 'g', 'h', 'i', 'j']"
   ]
  },
  {
   "cell_type": "markdown",
   "metadata": {
    "colab_type": "text",
    "id": "9erbHYY0jPNJ"
   },
   "source": [
    "**9.1 Implement function repl_nan(data, labels) which creates a dataframe from dictionary  \"data\" with indexes from the list \"labels\", replaces the values \"nan\" in the age field by the mean age depending on the animal's type and returns a new dataframe.**\n",
    "<div style=\"text-align: right\">1 point</div>"
   ]
  },
  {
   "cell_type": "code",
   "execution_count": null,
   "metadata": {
    "colab": {
     "autoexec": {
      "startup": false,
      "wait_interval": 0
     }
    },
    "colab_type": "code",
    "id": "TTd04W3zjPNL"
   },
   "outputs": [],
   "source": [
    "def repl_nan(data, labels):    \n",
    "    \"\"\"\n",
    "    :param data: dict\n",
    "    :param labels: list[str]\n",
    "    :return: pandas.core.frame.DataFrame \n",
    "    \"\"\"\n",
    "    # YOUR CODE HERE"
   ]
  },
  {
   "cell_type": "code",
   "execution_count": null,
   "metadata": {
    "colab": {
     "autoexec": {
      "startup": false,
      "wait_interval": 0
     }
    },
    "colab_type": "code",
    "id": "05k_bNK5sdck"
   },
   "outputs": [],
   "source": [
    "repl_nan(data, labels)"
   ]
  },
  {
   "cell_type": "markdown",
   "metadata": {
    "colab_type": "text",
    "id": "5FUJ0jkssdcm"
   },
   "source": [
    "Expected Output: \n",
    "\n",
    "|index| animal   |   age |   weight | priority   |\n",
    "|----|----------|-------|----------|------------|\n",
    "| **a**  | cat      | 2.5   |        1 | yes        |\n",
    "| **b**  | cat      | 1     |        3 | yes        |\n",
    "| **c**  | dog      | 0.5   |        6 | no         |\n",
    "| **d**  | dog      | 3.5   |        8 | yes        |\n",
    "| **e**  | cat      | 5     |        4 | no         |\n",
    "| **f**  | cat      | 2     |        3 | no         |\n",
    "| **g**  | dog      | 3.5   |       10 | no         |\n",
    "| **h**  | cat      | 2.625 |        2 | yes        |\n",
    "| **i**  | dog      | 7     |        7 | no         |\n",
    "| **j**  | dog      | 3     |        3 | no         |"
   ]
  },
  {
   "cell_type": "markdown",
   "metadata": {
    "colab_type": "text",
    "id": "nnrks-vGjPNO"
   },
   "source": [
    "#### 9.2 Implement function weight_to_type(data, labels) which creates a dataframe from dictionary \"data\" with indexes from the list \"labels\", calculates average weight of each animal type and returns dictionary with these values, where keys are animal types and values are animal weights.\n",
    "<div style=\"text-align: right\">1 point</div>"
   ]
  },
  {
   "cell_type": "code",
   "execution_count": null,
   "metadata": {
    "colab": {
     "autoexec": {
      "startup": false,
      "wait_interval": 0
     }
    },
    "colab_type": "code",
    "id": "v5fN_pdbjPNP"
   },
   "outputs": [],
   "source": [
    "def weight_to_type(data, labels):    \n",
    "    \"\"\"\n",
    "    :param data: dict\n",
    "    :param labels: list[str]\n",
    "    :return: dict\n",
    "    \"\"\"\n",
    "    # YOUR CODE HERE"
   ]
  },
  {
   "cell_type": "code",
   "execution_count": null,
   "metadata": {
    "colab": {
     "autoexec": {
      "startup": false,
      "wait_interval": 0
     }
    },
    "colab_type": "code",
    "id": "SaHRr_bAsdct"
   },
   "outputs": [],
   "source": [
    "print('weight_to_type', weight_to_type(data, labels))"
   ]
  },
  {
   "cell_type": "markdown",
   "metadata": {
    "colab_type": "text",
    "id": "NBfp6yiEsdcv"
   },
   "source": [
    "Expected Output: \n",
    "<table>\n",
    "  <tr>\n",
    "    <td>weight_to_type:</td>\n",
    "    <td> {'cat': 2.6, 'dog': 6.8} </td> \n",
    "  </tr>"
   ]
  },
  {
   "cell_type": "markdown",
   "metadata": {
    "colab_type": "text",
    "id": "aMRFy0acjPNS"
   },
   "source": [
    "#### 9.3  Implement function kittens(data, labels) which creates a dataframe from dictionary \"data\" with indexes from the list \"labels\" and returns dataframe with data about cats with age < 3.\n",
    "<div style=\"text-align: right\">1 point</div>"
   ]
  },
  {
   "cell_type": "code",
   "execution_count": null,
   "metadata": {
    "colab": {
     "autoexec": {
      "startup": false,
      "wait_interval": 0
     }
    },
    "colab_type": "code",
    "id": "iUdq_fcdjPNU"
   },
   "outputs": [],
   "source": [
    "def kittens(data, labels):    \n",
    "    \"\"\"\n",
    "    :param data: dict\n",
    "    :param labels: list[str]\n",
    "    :return: pandas.core.frame.DataFrame\n",
    "    \"\"\"\n",
    "    # YOUR CODE HERE"
   ]
  },
  {
   "cell_type": "code",
   "execution_count": null,
   "metadata": {
    "colab": {
     "autoexec": {
      "startup": false,
      "wait_interval": 0
     }
    },
    "colab_type": "code",
    "id": "yM0tVIKJsdcx"
   },
   "outputs": [],
   "source": [
    "kittens(data, labels)"
   ]
  },
  {
   "cell_type": "markdown",
   "metadata": {
    "colab_type": "text",
    "id": "K-8_bYeRsdcz"
   },
   "source": [
    "Expected Output: \n",
    "\n",
    "|  index  | animal   |   age |   weight | priority   |\n",
    "|:---|:---------|------:|---------:|:-----------|\n",
    "| a  | cat      |   2.5 |        1 | yes        |\n",
    "| b  | cat      |   1   |        3 | yes        |\n",
    "| f  | cat      |   2   |        3 | no         |"
   ]
  },
  {
   "cell_type": "markdown",
   "metadata": {
    "colab_type": "text",
    "id": "Mtc079yNjPNZ"
   },
   "source": [
    "#### 9.4  Implement function sorted_df(data, labels) which creates a dataframe from dictionary \"data\" with indexes from the list \"labels\" which returns dataframe sorted  firstly by age in a decreasing order, secondly, for the number of weight in ascending order.\n",
    "<div style=\"text-align: right\">1 point</div>"
   ]
  },
  {
   "cell_type": "code",
   "execution_count": null,
   "metadata": {
    "colab": {
     "autoexec": {
      "startup": false,
      "wait_interval": 0
     }
    },
    "colab_type": "code",
    "id": "zaQ4-bqLjPNa"
   },
   "outputs": [],
   "source": [
    "def sorted_df(data, labels):\n",
    "    \"\"\"\n",
    "    :param data: dict\n",
    "    :param labels: list[str]\n",
    "    :return: pandas.core.frame.DataFrame \n",
    "    \"\"\"\n",
    "    # YOUR CODE HERE"
   ]
  },
  {
   "cell_type": "code",
   "execution_count": null,
   "metadata": {
    "colab": {
     "autoexec": {
      "startup": false,
      "wait_interval": 0
     }
    },
    "colab_type": "code",
    "id": "frofbFYTsdc2"
   },
   "outputs": [],
   "source": [
    "sorted_df(data, labels)"
   ]
  },
  {
   "cell_type": "markdown",
   "metadata": {
    "colab_type": "text",
    "id": "KZwK1kj4sdc3"
   },
   "source": [
    "Expected Output: \n",
    "\n",
    "|  index| animal   |   age |   weight | priority   |\n",
    "|:---|:---------|------:|---------:|:-----------|\n",
    "| i  | dog      |   7   |        7 | no         |\n",
    "| e  | cat      |   5   |        4 | no         |\n",
    "| g  | dog      |   3.5 |       10 | no         |\n",
    "| j  | dog      |   3   |        3 | no         |\n",
    "| a  | cat      |   2.5 |        1 | yes        |\n",
    "| f  | cat      |   2   |        3 | no         |\n",
    "| b  | cat      |   1   |        3 | yes        |\n",
    "| c  | dog      |   0.5 |        6 | no         |\n",
    "| h  | cat      | nan   |        2 | yes        |\n",
    "| d  | dog      | nan   |        8 | yes        |"
   ]
  },
  {
   "cell_type": "markdown",
   "metadata": {},
   "source": [
    "#### 10. Markov Chain\n",
    "<div style=\"text-align: right\">5 points</div>\n",
    "<img src=\"http://157.230.116.154:1338/uploads/e35cccf9167841479bf0c4174b9cb85c.png\">\n",
    "\n",
    "Markov chain transition matrix P, and probability distribution on the states p:\n",
    "\n",
    "1. $0 <= P[i,j] <= 1:$ probability to go from state i to state j\n",
    "2. Transition rule: $p_{new} = P^T p_{old}$\n",
    "3. all(sum(P, axis=1) == 1), p.sum() == 1: normalization\n",
    "\n",
    "#### Implement function that works with 5 states, and:\n",
    "\n",
    "1. Constructs a random matrix, and normalizes each row so that it is a transition matrix.\n",
    "2. Starts from a random (normalized) probability distribution p and takes n_states => p_(n_states)\n",
    "3. Computes the stationary distribution: the eigenvector of P.T with eigenvalue 1 (numerically: closest to 1) => p_stationary\n",
    "\n",
    "(Don't forget to normalize the eigenvector)\n",
    "\n",
    "Checks if p_(n_states) and p_stationary are equal to tolerance"
   ]
  },
  {
   "cell_type": "code",
   "execution_count": null,
   "metadata": {},
   "outputs": [],
   "source": [
    "def markov_chain(n_states, n_steps, tolerance):\n",
    "    \"\"\"\n",
    "    :n_states: int\n",
    "    :n_steps: int\n",
    "    :tolerance: float\n",
    "    :return: np.array, np.array \n",
    "    \"\"\"\n",
    "    \n",
    "    np.random.seed(1234)\n",
    "    \n",
    "    # Random transition matrix and state vector\n",
    "    P = np.random.rand(n_states, n_states)\n",
    "    p = np.random.rand(n_states)\n",
    "    \n",
    "    # YOUR CODE HERE"
   ]
  },
  {
   "cell_type": "code",
   "execution_count": null,
   "metadata": {},
   "outputs": [],
   "source": [
    "n_states = 6\n",
    "n_steps = 60\n",
    "tolerance = 1e-5\n",
    "p_stationary, p_last = markov_chain(n_states, n_steps, tolerance)\n",
    "\n",
    "if all(abs(p_last - p_stationary) < tolerance):\n",
    "    print(\"Tolerance satisfied in infty-norm\")\n",
    "\n",
    "if np.linalg.norm(p_last - p_stationary) < tolerance:\n",
    "    print(\"Tolerance satisfied in 2-norm\")\n",
    "    \n",
    "print('p_stationary: ', p_stationary)\n",
    "print('p_last: ', p_last)"
   ]
  },
  {
   "cell_type": "markdown",
   "metadata": {},
   "source": [
    "Expected Output: \n",
    "<table>\n",
    "  <tr>\n",
    "    <td>Tolerance satisfied in infty-norm</td>\n",
    "  <tr>\n",
    "    <td>Tolerance satisfied in infty-norm</td>\n",
    "  <tr>\n",
    "    <td>p_stationary:   [0.17642782 0.21675892 0.16375743 0.20031888 0.13175137 0.11098559]</td>\n",
    "  <tr>\n",
    "    <td>p_last:  [0.17642782 0.21675892 0.16375743 0.20031888 0.13175137 0.11098559]</td>\n",
    "    "
   ]
  }
 ],
 "metadata": {
  "colab": {
   "collapsed_sections": [],
   "default_view": {},
   "name": "DataRoot University  _ Data Science Module 1 _ Test 1.ipynb",
   "provenance": [],
   "version": "0.3.2",
   "views": {}
  },
  "kernelspec": {
   "display_name": "Python 3",
   "language": "python",
   "name": "python3"
  },
  "language_info": {
   "codemirror_mode": {
    "name": "ipython",
    "version": 3
   },
   "file_extension": ".py",
   "mimetype": "text/x-python",
   "name": "python",
   "nbconvert_exporter": "python",
   "pygments_lexer": "ipython3",
   "version": "3.7.5"
  }
 },
 "nbformat": 4,
 "nbformat_minor": 1
}
